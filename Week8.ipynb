{
  "nbformat": 4,
  "nbformat_minor": 0,
  "metadata": {
    "colab": {
      "provenance": []
    },
    "kernelspec": {
      "name": "python3",
      "display_name": "Python 3"
    },
    "language_info": {
      "name": "python"
    }
  },
  "cells": [
    {
      "cell_type": "code",
      "source": [
        "#import needed packages\n",
        "import numpy as np\n",
        "import matplotlib.pyplot as plt\n",
        "import astropy.io.ascii\n",
        "import astropy.units as u\n",
        "import astropy.constants as ac"
      ],
      "metadata": {
        "id": "yx88ODrqYanf"
      },
      "execution_count": 16,
      "outputs": []
    },
    {
      "cell_type": "code",
      "source": [
        "from google.colab import files\n",
        "uploaded = files.upload()\n",
        "data = astropy.io.ascii.read(\"Tonry_2003.vot\")\n",
        "print(data)\n",
        "# import data files and print to see the data"
      ],
      "metadata": {
        "colab": {
          "base_uri": "https://localhost:8080/",
          "height": 545
        },
        "id": "XinW_sqERr21",
        "outputId": "68aee03a-4653-4d6f-b35f-50c0746eb558"
      },
      "execution_count": 17,
      "outputs": [
        {
          "output_type": "display_data",
          "data": {
            "text/plain": [
              "<IPython.core.display.HTML object>"
            ],
            "text/html": [
              "\n",
              "     <input type=\"file\" id=\"files-5da73246-d1e5-4748-adc9-1456bddfabe5\" name=\"files[]\" multiple disabled\n",
              "        style=\"border:none\" />\n",
              "     <output id=\"result-5da73246-d1e5-4748-adc9-1456bddfabe5\">\n",
              "      Upload widget is only available when the cell has been executed in the\n",
              "      current browser session. Please rerun this cell to enable.\n",
              "      </output>\n",
              "      <script>// Copyright 2017 Google LLC\n",
              "//\n",
              "// Licensed under the Apache License, Version 2.0 (the \"License\");\n",
              "// you may not use this file except in compliance with the License.\n",
              "// You may obtain a copy of the License at\n",
              "//\n",
              "//      http://www.apache.org/licenses/LICENSE-2.0\n",
              "//\n",
              "// Unless required by applicable law or agreed to in writing, software\n",
              "// distributed under the License is distributed on an \"AS IS\" BASIS,\n",
              "// WITHOUT WARRANTIES OR CONDITIONS OF ANY KIND, either express or implied.\n",
              "// See the License for the specific language governing permissions and\n",
              "// limitations under the License.\n",
              "\n",
              "/**\n",
              " * @fileoverview Helpers for google.colab Python module.\n",
              " */\n",
              "(function(scope) {\n",
              "function span(text, styleAttributes = {}) {\n",
              "  const element = document.createElement('span');\n",
              "  element.textContent = text;\n",
              "  for (const key of Object.keys(styleAttributes)) {\n",
              "    element.style[key] = styleAttributes[key];\n",
              "  }\n",
              "  return element;\n",
              "}\n",
              "\n",
              "// Max number of bytes which will be uploaded at a time.\n",
              "const MAX_PAYLOAD_SIZE = 100 * 1024;\n",
              "\n",
              "function _uploadFiles(inputId, outputId) {\n",
              "  const steps = uploadFilesStep(inputId, outputId);\n",
              "  const outputElement = document.getElementById(outputId);\n",
              "  // Cache steps on the outputElement to make it available for the next call\n",
              "  // to uploadFilesContinue from Python.\n",
              "  outputElement.steps = steps;\n",
              "\n",
              "  return _uploadFilesContinue(outputId);\n",
              "}\n",
              "\n",
              "// This is roughly an async generator (not supported in the browser yet),\n",
              "// where there are multiple asynchronous steps and the Python side is going\n",
              "// to poll for completion of each step.\n",
              "// This uses a Promise to block the python side on completion of each step,\n",
              "// then passes the result of the previous step as the input to the next step.\n",
              "function _uploadFilesContinue(outputId) {\n",
              "  const outputElement = document.getElementById(outputId);\n",
              "  const steps = outputElement.steps;\n",
              "\n",
              "  const next = steps.next(outputElement.lastPromiseValue);\n",
              "  return Promise.resolve(next.value.promise).then((value) => {\n",
              "    // Cache the last promise value to make it available to the next\n",
              "    // step of the generator.\n",
              "    outputElement.lastPromiseValue = value;\n",
              "    return next.value.response;\n",
              "  });\n",
              "}\n",
              "\n",
              "/**\n",
              " * Generator function which is called between each async step of the upload\n",
              " * process.\n",
              " * @param {string} inputId Element ID of the input file picker element.\n",
              " * @param {string} outputId Element ID of the output display.\n",
              " * @return {!Iterable<!Object>} Iterable of next steps.\n",
              " */\n",
              "function* uploadFilesStep(inputId, outputId) {\n",
              "  const inputElement = document.getElementById(inputId);\n",
              "  inputElement.disabled = false;\n",
              "\n",
              "  const outputElement = document.getElementById(outputId);\n",
              "  outputElement.innerHTML = '';\n",
              "\n",
              "  const pickedPromise = new Promise((resolve) => {\n",
              "    inputElement.addEventListener('change', (e) => {\n",
              "      resolve(e.target.files);\n",
              "    });\n",
              "  });\n",
              "\n",
              "  const cancel = document.createElement('button');\n",
              "  inputElement.parentElement.appendChild(cancel);\n",
              "  cancel.textContent = 'Cancel upload';\n",
              "  const cancelPromise = new Promise((resolve) => {\n",
              "    cancel.onclick = () => {\n",
              "      resolve(null);\n",
              "    };\n",
              "  });\n",
              "\n",
              "  // Wait for the user to pick the files.\n",
              "  const files = yield {\n",
              "    promise: Promise.race([pickedPromise, cancelPromise]),\n",
              "    response: {\n",
              "      action: 'starting',\n",
              "    }\n",
              "  };\n",
              "\n",
              "  cancel.remove();\n",
              "\n",
              "  // Disable the input element since further picks are not allowed.\n",
              "  inputElement.disabled = true;\n",
              "\n",
              "  if (!files) {\n",
              "    return {\n",
              "      response: {\n",
              "        action: 'complete',\n",
              "      }\n",
              "    };\n",
              "  }\n",
              "\n",
              "  for (const file of files) {\n",
              "    const li = document.createElement('li');\n",
              "    li.append(span(file.name, {fontWeight: 'bold'}));\n",
              "    li.append(span(\n",
              "        `(${file.type || 'n/a'}) - ${file.size} bytes, ` +\n",
              "        `last modified: ${\n",
              "            file.lastModifiedDate ? file.lastModifiedDate.toLocaleDateString() :\n",
              "                                    'n/a'} - `));\n",
              "    const percent = span('0% done');\n",
              "    li.appendChild(percent);\n",
              "\n",
              "    outputElement.appendChild(li);\n",
              "\n",
              "    const fileDataPromise = new Promise((resolve) => {\n",
              "      const reader = new FileReader();\n",
              "      reader.onload = (e) => {\n",
              "        resolve(e.target.result);\n",
              "      };\n",
              "      reader.readAsArrayBuffer(file);\n",
              "    });\n",
              "    // Wait for the data to be ready.\n",
              "    let fileData = yield {\n",
              "      promise: fileDataPromise,\n",
              "      response: {\n",
              "        action: 'continue',\n",
              "      }\n",
              "    };\n",
              "\n",
              "    // Use a chunked sending to avoid message size limits. See b/62115660.\n",
              "    let position = 0;\n",
              "    do {\n",
              "      const length = Math.min(fileData.byteLength - position, MAX_PAYLOAD_SIZE);\n",
              "      const chunk = new Uint8Array(fileData, position, length);\n",
              "      position += length;\n",
              "\n",
              "      const base64 = btoa(String.fromCharCode.apply(null, chunk));\n",
              "      yield {\n",
              "        response: {\n",
              "          action: 'append',\n",
              "          file: file.name,\n",
              "          data: base64,\n",
              "        },\n",
              "      };\n",
              "\n",
              "      let percentDone = fileData.byteLength === 0 ?\n",
              "          100 :\n",
              "          Math.round((position / fileData.byteLength) * 100);\n",
              "      percent.textContent = `${percentDone}% done`;\n",
              "\n",
              "    } while (position < fileData.byteLength);\n",
              "  }\n",
              "\n",
              "  // All done.\n",
              "  yield {\n",
              "    response: {\n",
              "      action: 'complete',\n",
              "    }\n",
              "  };\n",
              "}\n",
              "\n",
              "scope.google = scope.google || {};\n",
              "scope.google.colab = scope.google.colab || {};\n",
              "scope.google.colab._files = {\n",
              "  _uploadFiles,\n",
              "  _uploadFilesContinue,\n",
              "};\n",
              "})(self);\n",
              "</script> "
            ]
          },
          "metadata": {}
        },
        {
          "output_type": "stream",
          "name": "stdout",
          "text": [
            "Saving Tonry_2003.vot to Tonry_2003 (1).vot\n",
            "  col1     col2    col3   col4    col5    col6  col7  col8  col9  col10    col11  \n",
            "-------- ------- ------- ------ -------- ----- ----- ----- ----- -------- --------\n",
            " SN1972E  314.84   30.08 0.0023    N5253    16 2.839 2.399 0.033 204.9697 -31.6692\n",
            " SN1980N 240.161 -56.689 0.0056    N1316     9 3.225  3.14 0.043  50.6753 -37.2074\n",
            " SN1981B  292.97  64.743 0.0072    N4536     2 3.334 3.077 0.041 188.6233   2.1995\n",
            " SN1981D 240.161 -56.689 0.0056    N1316     9 3.225 3.044 0.055  50.6753 -37.2074\n",
            " SN1986G 309.543  19.401 0.0027    N5128    26 2.908  2.44 0.035 201.4028 -43.0316\n",
            " SN1988U   8.737 -81.227   0.31     Anon    24 4.968 5.096 0.072   3.5756 -30.4164\n",
            " SN1989B 241.991  64.403 0.0036    N3627    37 3.033 2.844  0.03 170.0578  12.9718\n",
            " SN1990N 294.369  75.987 0.0044    N4639    21  3.12 3.204 0.035 190.7367  13.2566\n",
            " SN1990O  37.654   28.36 0.0307 M+034403    10 3.964 3.977 0.025 258.8999  16.3241\n",
            " SN1990T 341.503 -31.526   0.04   P63925    10 4.079 4.101 0.042 299.7601 -56.2583\n",
            "     ...     ...     ...    ...      ...   ...   ...   ...   ...      ...      ...\n",
            "SN2000cx 136.506 -52.482  0.007    N0524 11:19 3.322  3.32 0.023  21.1926    9.509\n",
            "SN2000dk 126.834 -30.344 0.0164    N0382    11 3.692 3.677 0.023  16.8483  32.4068\n",
            "SN2000dz  84.367  -56.39    0.5     Anon    13 5.176 5.352 0.053 352.6728   0.3119\n",
            "SN2000ea 167.211 -61.402   0.42     Anon    13   5.1 5.091 0.053  32.4751  -5.4719\n",
            "SN2000ec 166.295 -60.176   0.47     Anon    13 5.149  5.34 0.043  32.8836  -4.2321\n",
            "SN2000ee 166.045 -53.429   0.47     Anon    13 5.149 5.343 0.041  36.8945   1.1971\n",
            "SN2000eg 167.097 -53.108   0.54     Anon    13 5.209 5.236 0.049  37.5883   1.0639\n",
            "SN2000eh 188.297 -31.651   0.49     Anon    13 5.167 5.224 0.042  63.7604   4.3888\n",
            "SN2000fa 194.167  15.479 0.0218   U03770    11 3.815 3.837 0.026 108.8752  23.4287\n",
            " SN2001V 218.929  77.733 0.0162    N3987    22 3.686 3.662 0.023 179.3542  25.2024\n",
            "Length = 230 rows\n"
          ]
        },
        {
          "output_type": "stream",
          "name": "stderr",
          "text": [
            "/usr/local/lib/python3.10/dist-packages/astropy/io/ascii/html.py:91: XMLParsedAsHTMLWarning: It looks like you're parsing an XML document using an HTML parser. If this really is an HTML document (maybe it's XHTML?), you can ignore or filter this warning. If it's XML, you should know that using an XML parser will be more reliable. To parse this document as XML, make sure you have the lxml package installed, and pass the keyword argument `features=\"xml\"` into the BeautifulSoup constructor.\n",
            "  soup = BeautifulSoup(\"\\n\".join(lines))\n"
          ]
        }
      ]
    },
    {
      "cell_type": "code",
      "source": [
        "#plotting the data from columns 7 and 8 (on a log scale) so that the velocity (km/s) is the y axis and distance (mpc)is the x axis\n",
        "#data is plotted in the correct units to be later used to find the hubble constant\n",
        "distance = 10**data[\"col8\"] / 72.0 * u.mpc\n",
        "distance_error = (10**(data[\"col8\"]+data[\"col9\"]) - 10**data[\"col8\"]) / 72.0 * u.mpc\n",
        "velocity = 10**data[\"col7\"] * u.km / u.s\n",
        "plt.plot(distance.to(u.mpc).value, velocity.to(u.km / u.s).value, marker=\".\", color=\"black\", linestyle=\"none\")\n",
        "plt.xscale(\"log\")\n",
        "plt.yscale(\"log\")\n",
        "plt.xlabel(\"Distance [Mpc]\")\n",
        "plt.ylabel(\"Velocity [km/s]\")"
      ],
      "metadata": {
        "id": "ASRgJ9s1Zies",
        "colab": {
          "base_uri": "https://localhost:8080/",
          "height": 491
        },
        "outputId": "e73b9be9-84e9-4b8a-ba0c-9af5c2d64cd9"
      },
      "execution_count": 18,
      "outputs": [
        {
          "output_type": "execute_result",
          "data": {
            "text/plain": [
              "Text(0, 0.5, 'Velocity [km/s]')"
            ]
          },
          "metadata": {},
          "execution_count": 18
        },
        {
          "output_type": "display_data",
          "data": {
            "text/plain": [
              "<Figure size 640x480 with 1 Axes>"
            ],
            "image/png": "[encoded data removed]"
          },
          "metadata": {}
        }
      ]
    },
    {
      "cell_type": "code",
      "source": [
        "#replotting the data to limit it to closer supernovae\n",
        "\n",
        "distance = 10**data[\"col8\"] / 72.0 * u.mpc\n",
        "velocity = 10**data[\"col7\"] * u.km / u.s\n",
        "\n",
        "# calculating linear fit coefficients and limiting the distance to less than 700 megaparsecs away\n",
        "x = distance.to(u.mpc).value\n",
        "ind = np.where((x > 0) & (x < 700))\n",
        "z = np.polyfit(distance.to(u.mpc).value[ind], velocity.to(u.km / u.s).value[ind], 1)\n",
        "p = np.poly1d(z)\n",
        "velocity_model = p(distance.to(u.mpc).value)\n",
        "#plotting the best linear fit in blue\n",
        "plt.plot(distance.to(u.mpc).value, velocity.to(u.km / u.s).value, marker=\".\", color=\"black\", linestyle=\"none\")\n",
        "plt.plot(distance.to(u.mpc).value, velocity_model, color=\"blue\",)\n",
        "plt.xlim(0, 700)\n",
        "plt.ylim(0, 4e4)\n",
        "plt.xlabel(\"Distance [Mpc]\")\n",
        "plt.ylabel(\"Velocity [km/s]\")"
      ],
      "metadata": {
        "colab": {
          "base_uri": "https://localhost:8080/",
          "height": 492
        },
        "id": "WtgIfbz_0MEb",
        "outputId": "bb096d14-2733-4738-8799-735f1a4ba75a"
      },
      "execution_count": 49,
      "outputs": [
        {
          "output_type": "execute_result",
          "data": {
            "text/plain": [
              "Text(0, 0.5, 'Velocity [km/s]')"
            ]
          },
          "metadata": {},
          "execution_count": 49
        },
        {
          "output_type": "display_data",
          "data": {
            "text/plain": [
              "<Figure size 640x480 with 1 Axes>"
            ],
            "image/png": "[encoded data removed]"
          },
          "metadata": {}
        }
      ]
    },
    {
      "cell_type": "code",
      "source": [
        "h =  z[0] * (u.km * u.s**-1 )/ u.Mpc\n",
        "print(h)\n",
        "# the hubble constant is from the first part of the linear equation for the best linear fit of the data"
      ],
      "metadata": {
        "colab": {
          "base_uri": "https://localhost:8080/"
        },
        "id": "vMcPh6HCB_5f",
        "outputId": "245f5ef3-1dd0-4a84-e283-dc73e7c86c07"
      },
      "execution_count": 47,
      "outputs": [
        {
          "output_type": "stream",
          "name": "stdout",
          "text": [
            "67.48137250840927 km / (Mpc s)\n"
          ]
        }
      ]
    },
    {
      "cell_type": "code",
      "source": [
        "age = 1/h\n",
        "print (age.to(u.Gyr))\n",
        "# the age of the universe is the inverse of the hubble constant in gigayears."
      ],
      "metadata": {
        "colab": {
          "base_uri": "https://localhost:8080/"
        },
        "id": "x_YB_XVbCSyL",
        "outputId": "21bf5f9d-fd57-49f1-a390-176220c1eea0"
      },
      "execution_count": 48,
      "outputs": [
        {
          "output_type": "stream",
          "name": "stdout",
          "text": [
            "14.489809340480448 Gyr\n"
          ]
        }
      ]
    }
  ]
}